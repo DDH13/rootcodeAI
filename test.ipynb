{
 "cells": [
  {
   "cell_type": "code",
   "execution_count": 21,
   "id": "73e4d508",
   "metadata": {},
   "outputs": [],
   "source": [
    "import os\n",
    "import sys\n",
    "import cv2\n",
    "import numpy as np\n",
    "import tensorflow as tf\n",
    "import seaborn as sns\n",
    "from sklearn.metrics import accuracy_score, recall_score, precision_score, f1_score\n",
    "from sklearn.metrics import confusion_matrix\n",
    "import matplotlib.pyplot as plt\n",
    "\n",
    "TUMOR_CLASSES = [\"category1_tumor\", \"category2_tumor\", \"category3_tumor\", \"no_tumor\"]\n",
    "IMG_WIDTH = 80\n",
    "IMG_HEIGHT = 80\n",
    "BASE_PATH = \"../Datathon-Dataset\"\n",
    "MODEL_FILENAME = \"tumor8.h5\""
   ]
  },
  {
   "cell_type": "markdown",
   "id": "2c332871",
   "metadata": {},
   "source": [
    "### Load Data"
   ]
  },
  {
   "cell_type": "code",
   "execution_count": 22,
   "id": "192f3542",
   "metadata": {},
   "outputs": [],
   "source": [
    "def load_data_for_testing(base_path):\n",
    "    images = []\n",
    "    labels = []\n",
    "\n",
    "    for i, tumor_class in enumerate(TUMOR_CLASSES):\n",
    "        class_path = os.path.join(base_path, tumor_class)\n",
    "\n",
    "        for filename in os.listdir(class_path):\n",
    "            if filename.endswith(\".jpg\"):\n",
    "                img = cv2.imread(os.path.join(class_path, filename))\n",
    "                img = cv2.resize(img, (IMG_WIDTH, IMG_HEIGHT))\n",
    "                images.append(img)\n",
    "                labels.append(i)\n",
    "    return images, labels"
   ]
  },
  {
   "cell_type": "code",
   "execution_count": 23,
   "id": "078cae80",
   "metadata": {},
   "outputs": [],
   "source": [
    "test_images, test_labels = load_data_for_testing(BASE_PATH)"
   ]
  },
  {
   "cell_type": "markdown",
   "id": "ca71e180",
   "metadata": {},
   "source": [
    "### Load Model"
   ]
  },
  {
   "cell_type": "code",
   "execution_count": 24,
   "id": "59734655",
   "metadata": {},
   "outputs": [],
   "source": [
    "if not os.path.exists(MODEL_FILENAME):\n",
    "    print(f\"Model file '{MODEL_FILENAME}' not found.\")\n",
    "    sys.exit(1)\n",
    "\n",
    "\n",
    "model = tf.keras.models.load_model(MODEL_FILENAME)"
   ]
  },
  {
   "cell_type": "markdown",
   "id": "dce56c1b",
   "metadata": {},
   "source": [
    "### Run Model"
   ]
  },
  {
   "cell_type": "code",
   "execution_count": 25,
   "id": "3ba529d1",
   "metadata": {},
   "outputs": [
    {
     "name": "stdout",
     "output_type": "stream",
     "text": [
      "101/101 - 8s - loss: 141.0023 - accuracy: 0.6998 - 8s/epoch - 74ms/step\n",
      "101/101 [==============================] - 8s 69ms/step\n"
     ]
    }
   ],
   "source": [
    "# Preprocess test data\n",
    "test_images = np.array(test_images)\n",
    "test_labels = tf.keras.utils.to_categorical(test_labels)\n",
    "\n",
    "# Evaluate model performance\n",
    "loss, accuracy = model.evaluate(test_images, test_labels, verbose=2)\n",
    "\n",
    "predictions = model.predict(test_images)\n",
    "y_pred = np.argmax(predictions, axis=1)\n",
    "y_test = np.argmax(test_labels, axis=1)"
   ]
  },
  {
   "cell_type": "markdown",
   "id": "835f520e",
   "metadata": {},
   "source": [
    "### Evaluate model"
   ]
  },
  {
   "cell_type": "code",
   "execution_count": 26,
   "id": "d1e6b058",
   "metadata": {},
   "outputs": [
    {
     "name": "stdout",
     "output_type": "stream",
     "text": [
      "\n",
      "Loss: 141.00230407714844\n",
      "Accuracy:  0.6997518610421837\n",
      "Recall:  0.6997518610421837\n",
      "Precision:  0.7716071527914862\n",
      "F1 Score:  0.6955401634554107\n"
     ]
    },
    {
     "data": {
      "image/png": "[encoded data removed]",
      "text/plain": [
       "<Figure size 576x432 with 2 Axes>"
      ]
     },
     "metadata": {
      "needs_background": "light"
     },
     "output_type": "display_data"
    }
   ],
   "source": [
    "print(f\"\\nLoss: {loss}\")\n",
    "print(\"Accuracy: \", accuracy_score(y_test, y_pred))\n",
    "print(\"Recall: \", recall_score(y_test, y_pred, average='weighted'))\n",
    "print(\"Precision: \", precision_score(y_test, y_pred, average='weighted'))\n",
    "print(\"F1 Score: \", f1_score(y_test, y_pred, average='weighted'))\n",
    "\n",
    "\n",
    "# Compute confusion matrix\n",
    "conf_matrix = confusion_matrix(y_test, y_pred)\n",
    "\n",
    "# Display confusion matrix as a heatmap\n",
    "plt.figure(figsize=(8, 6))\n",
    "sns.heatmap(conf_matrix, annot=True, fmt=\"d\", cmap=\"Blues\",\n",
    "            xticklabels=TUMOR_CLASSES, yticklabels=TUMOR_CLASSES)\n",
    "plt.xlabel('Predicted')\n",
    "plt.ylabel('True')\n",
    "plt.title('Confusion Matrix')\n",
    "plt.show()\n"
   ]
  }
 ],
 "metadata": {
  "kernelspec": {
   "display_name": "Python 3",
   "language": "python",
   "name": "python3"
  },
  "language_info": {
   "codemirror_mode": {
    "name": "ipython",
    "version": 3
   },
   "file_extension": ".py",
   "mimetype": "text/x-python",
   "name": "python",
   "nbconvert_exporter": "python",
   "pygments_lexer": "ipython3",
   "version": "3.9.15"
  }
 },
 "nbformat": 4,
 "nbformat_minor": 5
}
